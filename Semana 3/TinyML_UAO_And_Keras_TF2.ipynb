{
  "nbformat": 4,
  "nbformat_minor": 0,
  "metadata": {
    "colab": {
      "provenance": []
    },
    "kernelspec": {
      "name": "python3",
      "display_name": "Python 3"
    }
  },
  "cells": [
    {
      "cell_type": "code",
      "metadata": {
        "id": "p21L9Gg2PzRt"
      },
      "source": [
        "from tensorflow import keras\n",
        "import numpy as np\n",
        "import matplotlib.pyplot as plt\n"
      ],
      "execution_count": 1,
      "outputs": []
    },
    {
      "cell_type": "code",
      "metadata": {
        "id": "Lj_DcFz6QFL8",
        "colab": {
          "base_uri": "https://localhost:8080/"
        },
        "outputId": "b4eeb88f-0bc4-4b0b-9284-ee2bd0837999"
      },
      "source": [
        "x_train =np.array([[0,0],[0,1],[1,0],[1,1]])\n",
        "y_train =np.array([[0],[1],[1],[0]])\n",
        "print(x_train)\n",
        "print(y_train)"
      ],
      "execution_count": 2,
      "outputs": [
        {
          "output_type": "stream",
          "name": "stdout",
          "text": [
            "[[0 0]\n",
            " [0 1]\n",
            " [1 0]\n",
            " [1 1]]\n",
            "[[0]\n",
            " [1]\n",
            " [1]\n",
            " [0]]\n"
          ]
        }
      ]
    },
    {
      "cell_type": "code",
      "metadata": {
        "id": "K5292FUGQ_GX",
        "colab": {
          "base_uri": "https://localhost:8080/"
        },
        "outputId": "01913f5a-1396-4c6b-ecba-343605c03811"
      },
      "source": [
        "modelo = keras.models.Sequential()\n",
        "#modelo.add(keras.layers.Dense(1,input_shape=(2,),activation='sigmoid'))\n",
        "modelo.add(keras.layers.Dense(3,input_shape=(2,),activation='tanh'))\n",
        "modelo.add(keras.layers.Dense(1,activation='sigmoid'))\n",
        "modelo.summary()"
      ],
      "execution_count": 3,
      "outputs": [
        {
          "output_type": "stream",
          "name": "stdout",
          "text": [
            "Model: \"sequential\"\n",
            "_________________________________________________________________\n",
            " Layer (type)                Output Shape              Param #   \n",
            "=================================================================\n",
            " dense (Dense)               (None, 3)                 9         \n",
            "                                                                 \n",
            " dense_1 (Dense)             (None, 1)                 4         \n",
            "                                                                 \n",
            "=================================================================\n",
            "Total params: 13\n",
            "Trainable params: 13\n",
            "Non-trainable params: 0\n",
            "_________________________________________________________________\n"
          ]
        }
      ]
    },
    {
      "cell_type": "code",
      "metadata": {
        "id": "iByTWADR4Xpj",
        "colab": {
          "base_uri": "https://localhost:8080/",
          "height": 312
        },
        "outputId": "ec9ce8fa-01d9-4eb0-d8e1-517af1861a1a"
      },
      "source": [
        "keras.utils.plot_model(modelo, \"RNA_And.png\", show_shapes=True)"
      ],
      "execution_count": 4,
      "outputs": [
        {
          "output_type": "execute_result",
          "data": {
            "image/png": "[encoded data removed]",
            "text/plain": [
              "<IPython.core.display.Image object>"
            ]
          },
          "metadata": {},
          "execution_count": 4
        }
      ]
    },
    {
      "cell_type": "code",
      "metadata": {
        "id": "bikWKr8tR2q1",
        "outputId": "0530b5b6-37c5-4c34-a37c-e51c67be6947",
        "colab": {
          "base_uri": "https://localhost:8080/"
        }
      },
      "source": [
        "modelo.compile('rmsprop','mse',metrics=['accuracy','mse'])\n",
        "historia=modelo.fit(x_train,y_train,epochs=5000,verbose=0)\n",
        "y_predic=modelo.predict(x_train)\n",
        "print(y_predic)"
      ],
      "execution_count": 6,
      "outputs": [
        {
          "output_type": "stream",
          "name": "stdout",
          "text": [
            "1/1 [==============================] - 0s 91ms/step\n",
            "[[0.00438694]\n",
            " [0.9925465 ]\n",
            " [0.9934475 ]\n",
            " [0.00458919]]\n"
          ]
        }
      ]
    },
    {
      "cell_type": "code",
      "source": [
        "modelo.evaluate(x_train,y_train)"
      ],
      "metadata": {
        "colab": {
          "base_uri": "https://localhost:8080/"
        },
        "id": "AmfJxoSJtNHR",
        "outputId": "243941ae-2654-4981-fc7a-361b4bc27b83"
      },
      "execution_count": null,
      "outputs": [
        {
          "output_type": "stream",
          "name": "stdout",
          "text": [
            "1/1 [==============================] - 0s 148ms/step - loss: 0.0191 - accuracy: 1.0000 - mse: 0.0191\n"
          ]
        },
        {
          "output_type": "execute_result",
          "data": {
            "text/plain": [
              "[0.019068969413638115, 1.0, 0.019068969413638115]"
            ]
          },
          "metadata": {},
          "execution_count": 11
        }
      ]
    },
    {
      "cell_type": "markdown",
      "metadata": {
        "id": "JorfK5GDWdkX"
      },
      "source": [
        "Visualización de la evolucion de la pérdida y de la precisión"
      ]
    },
    {
      "cell_type": "code",
      "source": [
        "perdida_train = historia.history['loss']\n",
        "epocas = range(1, len(perdida_train) + 1)\n",
        "plt.plot(epocas, perdida_train, 'b', label='Pérdida Entrenamiento')\n",
        "plt.title('Pérdida Entrenamiento')\n",
        "plt.xlabel('Epocas')\n",
        "plt.ylabel('Loss')\n",
        "plt.legend()\n",
        "plt.show()"
      ],
      "metadata": {
        "colab": {
          "base_uri": "https://localhost:8080/",
          "height": 295
        },
        "id": "AC0bUrdkV4t6",
        "outputId": "3bb91eb2-3a6a-434c-88a2-53be2c3e9bb2"
      },
      "execution_count": null,
      "outputs": [
        {
          "output_type": "display_data",
          "data": {
            "text/plain": [
              "<Figure size 432x288 with 1 Axes>"
            ],
            "image/png": "[encoded data removed]"
          },
          "metadata": {
            "needs_background": "light"
          }
        }
      ]
    },
    {
      "cell_type": "code",
      "metadata": {
        "id": "WeEAZd6bqxSr"
      },
      "source": [
        "hidden1 = modelo.layers[0]\n"
      ],
      "execution_count": null,
      "outputs": []
    },
    {
      "cell_type": "code",
      "metadata": {
        "id": "1MZI8yAbq_Nw",
        "outputId": "25adcc80-81c2-45a7-934a-a68fdf41a480",
        "colab": {
          "base_uri": "https://localhost:8080/"
        }
      },
      "source": [
        "weightsco, biasesco = hidden1.get_weights()\n",
        "print(weightsco)\n",
        "print(biasesco)"
      ],
      "execution_count": null,
      "outputs": [
        {
          "output_type": "stream",
          "name": "stdout",
          "text": [
            "[[3.3246367]\n",
            " [3.3246367]]\n",
            "[-4.987984]\n"
          ]
        }
      ]
    },
    {
      "cell_type": "code",
      "metadata": {
        "id": "Z5TcVqveLhfX"
      },
      "source": [
        "#CapaSalida = modelo.layers[1]\n"
      ],
      "execution_count": null,
      "outputs": []
    },
    {
      "cell_type": "code",
      "metadata": {
        "id": "vVwRvXk9Ltou"
      },
      "source": [
        "#weightscs, biasescs = CapaSalida.get_weights()\n",
        "#print(weightscs)\n",
        "#print(biasescs)"
      ],
      "execution_count": null,
      "outputs": []
    }
  ]
}